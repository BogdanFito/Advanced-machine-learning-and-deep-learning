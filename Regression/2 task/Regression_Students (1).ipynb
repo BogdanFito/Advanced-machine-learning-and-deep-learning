{
  "nbformat": 4,
  "nbformat_minor": 0,
  "metadata": {
    "colab": {
      "provenance": []
    },
    "kernelspec": {
      "name": "python3",
      "display_name": "Python 3"
    },
    "language_info": {
      "name": "python"
    }
  },
  "cells": [
    {
      "cell_type": "markdown",
      "source": [
        "Импорт библиотек"
      ],
      "metadata": {
        "id": "9eFThHrPlCFg"
      }
    },
    {
      "cell_type": "code",
      "execution_count": null,
      "metadata": {
        "id": "zqaeN2z8v3qR"
      },
      "outputs": [],
      "source": [
        "import pandas as pd\n",
        "import seaborn as sns\n",
        "from sklearn.model_selection import train_test_split\n",
        "from sklearn.decomposition import PCA\n",
        "from sklearn.linear_model import LinearRegression\n",
        "from sklearn.metrics import r2_score"
      ]
    },
    {
      "cell_type": "markdown",
      "source": [
        "Всего датасет содержит 159 записей. Мы предварительно зарезервировали часть датасета для задания по преодолению бейслайна (baseline). В настоящем задании подразумевается работа с датасетом, содержащим 119 записей."
      ],
      "metadata": {
        "id": "QTq1SRHEzF6J"
      }
    },
    {
      "cell_type": "markdown",
      "source": [
        "# 0. Применение полиномиальной регрессии для предсказания непрерывного параметра"
      ],
      "metadata": {
        "id": "bjyhxYK-eoem"
      }
    },
    {
      "cell_type": "markdown",
      "source": [
        "Представленный набор данных — это набор данных о семи различных типах рыб, продаваемых в некоторой рыбной лавке. Наша цель заключается в том, чтобы предсказать массу рыбы по каким-то косвенным признакам, известным о рыбе. Сами признаки, быть может, нужно синтезировать из тех, что известны."
      ],
      "metadata": {
        "id": "VpkXz4mpeygZ"
      }
    },
    {
      "cell_type": "markdown",
      "source": [
        "При помощи <code>train_test_split()</code> разбейте набор данных на обучающую и тестовую выборки с параметрами, указанными в вашем задании. Используйте стратификацию по колонке <code>Species</code>. Стратификация позволит сохранить доли представленных объектов (по представителям типов рыб) в тренировочной и тестовой выборках."
      ],
      "metadata": {
        "id": "K497OQtR0cbN"
      }
    },
    {
      "cell_type": "code",
      "source": [
        "# Загрузка данных из CSV-файла\n",
        "data = pd.read_csv(\"/content/sample_data/fish_train.csv\")\n",
        "\n",
        "# Выделение признаков (X) и целевой переменной (y)\n",
        "X = data.drop('Species', axis=1)  # Все столбцы, кроме 'Species'\n",
        "X = X.drop('Weight', axis=1)  # Все столбцы, кроме 'Species'\n",
        "y = data['Weight']\n",
        "z = data['Species']\n",
        "\n",
        "# Разбиение данных на обучающую и тестовую выборки со стратификацией\n",
        "X_train, X_test, y_train, y_test = train_test_split(X, y, test_size=0.2, random_state=11,stratify=z)\n",
        "print(X_train, X_test)"
      ],
      "metadata": {
        "id": "KXoU2OWH0fn5",
        "colab": {
          "base_uri": "https://localhost:8080/"
        },
        "outputId": "868f22a4-e313-4c4c-ecce-8fedf3bf05d5"
      },
      "execution_count": null,
      "outputs": [
        {
          "output_type": "stream",
          "name": "stdout",
          "text": [
            "     Length1  Length2  Length3   Height   Width\n",
            "97      23.6     25.2     27.9   7.0866  3.9060\n",
            "37      40.2     43.5     46.0  12.6040  8.1420\n",
            "21      37.0     40.0     42.5  11.7300  7.2250\n",
            "40      21.2     23.0     25.8  10.3458  3.6636\n",
            "116     37.3     40.0     43.5  12.3540  6.5250\n",
            "..       ...      ...      ...      ...     ...\n",
            "8       24.1     26.5     29.3   8.1454  4.2485\n",
            "78      43.2     46.0     48.7   7.7920  4.8700\n",
            "95      14.3     15.5     17.4   6.5772  2.3142\n",
            "58      34.0     36.5     39.0  10.8810  6.8640\n",
            "64      30.5     32.8     34.0  10.0300  6.0180\n",
            "\n",
            "[95 rows x 5 columns]      Length1  Length2  Length3   Height   Width\n",
            "71      21.5     23.5     25.0   6.2750  3.7250\n",
            "106     11.7     12.4     13.5   2.4300  1.2690\n",
            "23      22.0     23.4     26.7   6.9153  3.6312\n",
            "91      16.2     18.0     19.2   5.2224  3.3216\n",
            "104     31.7     34.0     37.8   5.7078  4.1580\n",
            "108     33.5     37.0     42.6  18.9570  6.6030\n",
            "49      19.8     21.5     24.1   9.7364  3.1571\n",
            "103     19.0     20.7     23.2   8.5376  3.2944\n",
            "16       9.3      9.8     10.8   1.7388  1.0476\n",
            "67      25.4     27.5     28.9   7.1672  4.3350\n",
            "115     42.0     45.0     48.0   6.9600  4.8960\n",
            "27      40.1     43.0     45.5  12.5125  7.4165\n",
            "112     34.6     37.0     39.3  10.5717  6.3666\n",
            "0       20.4     22.0     24.7   5.8045  3.7544\n",
            "47      26.3     29.0     33.5  12.7300  4.4555\n",
            "41      25.2     27.3     28.7   8.3230  5.1373\n",
            "82      56.0     60.0     64.0   9.6000  6.1440\n",
            "43      21.1     22.5     25.0   6.4000  3.8000\n",
            "14      21.0     23.0     24.5   5.2185  3.6260\n",
            "77      34.5     37.0     39.4  10.8350  6.2646\n",
            "50      29.4     32.0     37.2  15.4380  5.5800\n",
            "56      31.4     34.0     39.2  15.9936  5.3704\n",
            "31      33.7     36.4     39.6  11.7612  6.5736\n",
            "61      28.4     31.0     36.2  14.2628  5.1042\n"
          ]
        }
      ]
    },
    {
      "cell_type": "markdown",
      "source": [
        "Вычислите выборочное среднее колонки <code>Width</code> полученной тренировочной выборки."
      ],
      "metadata": {
        "id": "euRpYppY1xuR"
      }
    },
    {
      "cell_type": "code",
      "source": [
        "import numpy as np\n",
        "\n",
        "mean_width_train = np.mean(X_train['Width'])\n",
        "\n",
        "print(\"Среднее значение ширины в тренировочной выборке:\", mean_width_train)"
      ],
      "metadata": {
        "id": "3q_2UVQ_2Avj",
        "colab": {
          "base_uri": "https://localhost:8080/"
        },
        "outputId": "309aac46-8b6e-4397-8114-536058b5f8f9"
      },
      "execution_count": null,
      "outputs": [
        {
          "output_type": "stream",
          "name": "stdout",
          "text": [
            "Среднее значение ширины в тренировочной выборке: 4.498425263157893\n"
          ]
        }
      ]
    },
    {
      "cell_type": "markdown",
      "source": [
        "# 1. Построение базовой модели\n",
        "\n",
        "Избавьтесь от категориальных признаков и обучите модель линейной регрессии (<code>LinearRegression()</code>) на тренировочном наборе данных. Выполните предсказания для тестового набора данных. Оцените модель при помощи метрики <code>r2_score()</code>."
      ],
      "metadata": {
        "id": "cAQId_950UCZ"
      }
    },
    {
      "cell_type": "code",
      "source": [
        "from sklearn.preprocessing import OneHotEncoder\n",
        "from sklearn.linear_model import LogisticRegression\n",
        "\n",
        "model = LinearRegression()\n",
        "model.fit(X_train, y_train)\n",
        "\n",
        "y_pred = model.predict(X_test)\n",
        "r2 = r2_score(y_test, y_pred)\n",
        "print(\"Коэффициент детерминации R^2:\", r2)"
      ],
      "metadata": {
        "id": "J9QyfzCx5FrA",
        "colab": {
          "base_uri": "https://localhost:8080/"
        },
        "outputId": "90fbdb87-400b-4acf-d972-fc4e0251876c"
      },
      "execution_count": null,
      "outputs": [
        {
          "output_type": "stream",
          "name": "stdout",
          "text": [
            "Коэффициент детерминации R^2: 0.8244231342772975\n"
          ]
        }
      ]
    },
    {
      "cell_type": "markdown",
      "source": [
        "# 2. Добавление предварительной обработки признаков."
      ],
      "metadata": {
        "id": "qPEFdTMe56b9"
      }
    },
    {
      "cell_type": "markdown",
      "source": [
        "## Использование PCA\n",
        "\n",
        "При помощи, например, <code>sns.heatmap()</code>, постройте матрицу корреляций признаков тренировочного набора данных и определите тройку наиболее коррелированных между собой признаков."
      ],
      "metadata": {
        "id": "kKrNXjxTCS1D"
      }
    },
    {
      "cell_type": "code",
      "source": [
        "import matplotlib.pyplot as plt\n",
        "\n",
        "# Вычисляем матрицу корреляций для числовых признаков в тренировочном наборе\n",
        "corr_matrix = X_train.corr()\n",
        "\n",
        "# Визуализируем матрицу корреляций\n",
        "plt.figure(figsize=(12, 10))\n",
        "sns.heatmap(corr_matrix, annot=True, cmap='coolwarm')\n",
        "plt.title('Матрица корреляций')\n",
        "plt.show()\n",
        "\n",
        "# Находим тройку наиболее коррелированных пар признаков (по абсолютной величине корреляции)\n",
        "corr_pairs = corr_matrix.unstack().sort_values(ascending=False)\n",
        "corr_pairs = corr_pairs[corr_pairs != 1]  # Убираем корреляцию признака с самим собой\n",
        "top_corr_pairs = corr_pairs.head(3)\n",
        "print(top_corr_pairs)"
      ],
      "metadata": {
        "id": "HFtdKOdG62hS",
        "colab": {
          "base_uri": "https://localhost:8080/",
          "height": 922
        },
        "outputId": "fb70c587-883c-4efb-a991-8adb2f34ba29"
      },
      "execution_count": null,
      "outputs": [
        {
          "output_type": "display_data",
          "data": {
            "text/plain": [
              "<Figure size 1200x1000 with 2 Axes>"
            ],
            "image/png": "[encoded data removed]"
          },
          "metadata": {}
        },
        {
          "output_type": "stream",
          "name": "stdout",
          "text": [
            "Length1  Length2    0.999431\n",
            "Length2  Length1    0.999431\n",
            "         Length3    0.993158\n",
            "dtype: float64\n"
          ]
        }
      ]
    },
    {
      "cell_type": "markdown",
      "source": [
        "Линейные модели достаточно плохо реагируют на коррелированные признаки, поэтому от таких признаков имеет смысл избавиться еще до начала обучения."
      ],
      "metadata": {
        "id": "Cx1RHggagRLr"
      }
    },
    {
      "cell_type": "markdown",
      "source": [
        "Для уменьшения количества неинформативных измерений используйте метод главных компонент.\n",
        "\n",
        "1) Примените метод главных компонент (<code>PCA(n_components=3, svd_solver='full')</code>) для трех найденных наиболее коррелированных признаков.\n",
        "\n",
        "2) Вычислите долю объясненной дисперсии при использовании только первой главной компоненты.\n",
        "\n",
        "3) Замените три наиболее коррелированных признака на новый признак <code>Lengths</code>, значения которого совпадают со значениями счетов первой главной компоненты."
      ],
      "metadata": {
        "id": "e6AquRcu7Gvb"
      }
    },
    {
      "cell_type": "code",
      "source": [
        "from sklearn.preprocessing import StandardScaler\n",
        "\n",
        "# Выбираем три наиболее коррелированные признака (замените 'feature1', 'feature2', 'feature3' на ваши реальные названия)\n",
        "selected_features = ['Length1', 'Length2', 'Length3']\n",
        "X_train_selected = X_train[selected_features]\n",
        "\n",
        "# Стандартизация данных (необходима для PCA)\n",
        "scaler = StandardScaler()\n",
        "X_train_scaled = scaler.fit_transform(X_train_selected)\n",
        "\n",
        "# Создание и обучение модели PCA\n",
        "pca = PCA(n_components=3, svd_solver='full')\n",
        "pca.fit(X_train_scaled)\n",
        "\n",
        "# Объясненная дисперсия для каждой компоненты\n",
        "explained_variance_ratio = pca.explained_variance_ratio_\n",
        "print('Объясненная дисперсия для каждой компоненты:', explained_variance_ratio)\n",
        "\n",
        "# Доля объясненной дисперсии первой компонентой\n",
        "print('Доля объясненной дисперсии первой компонентой:', explained_variance_ratio[0])\n",
        "\n",
        "# Преобразование данных к новым координатам\n",
        "X_train_pca = pca.transform(X_train_scaled)\n",
        "X_test_scaled = scaler.transform(X_test[selected_features])  # Стандартизация тестовых данных\n",
        "X_test_pca = pca.transform(X_test_scaled)\n",
        "\n",
        "# Создание нового признака Lengths для тренировочных и тестовых данных\n",
        "X_train['Lengths'] = X_train_pca[:, 0]\n",
        "X_test['Lengths'] = X_test_pca[:, 0]\n",
        "\n",
        "# Удаление старых признаков для тренировочных и тестовых данных\n",
        "X_train.drop(selected_features, axis=1, inplace=True)\n",
        "X_test.drop(selected_features, axis=1, inplace=True)"
      ],
      "metadata": {
        "id": "VlPLHO2U8PiA",
        "colab": {
          "base_uri": "https://localhost:8080/"
        },
        "outputId": "eb102973-d1c5-4a60-824b-2e1d1a1eba33"
      },
      "execution_count": null,
      "outputs": [
        {
          "output_type": "stream",
          "name": "stdout",
          "text": [
            "Объясненная дисперсия для каждой компоненты: [9.96266706e-01 3.61430078e-03 1.18993031e-04]\n",
            "Доля объясненной дисперсии первой компонентой: 0.9962667061885203\n"
          ]
        }
      ]
    },
    {
      "cell_type": "markdown",
      "source": [
        "Примените полученное преобразование для тех же признаков в тестовом наборе данных. Обратите внимание, что заново обучать преобразование `PCA` не нужно. Аналогично предыдущему этапу замените три рассмотренных признака на один."
      ],
      "metadata": {
        "id": "kDrK2-Nd_ogF"
      }
    },
    {
      "cell_type": "code",
      "source": [
        "# < ENTER YOUR CODE HERE >"
      ],
      "metadata": {
        "id": "xEOAkMFf-T5m"
      },
      "execution_count": null,
      "outputs": []
    },
    {
      "cell_type": "markdown",
      "source": [
        "Обучите базовую модель линейной регресси на полученных тренировочных данных, снова выбросив категориальные признаки. Выполните предсказания для тестовых данных, оцените при помощи <code>r2_score()</code>."
      ],
      "metadata": {
        "id": "NGiPC64DAmRb"
      }
    },
    {
      "cell_type": "code",
      "source": [
        "model = LinearRegression()\n",
        "model.fit(X_train, y_train)\n",
        "\n",
        "y_pred = model.predict(X_test)\n",
        "r2 = r2_score(y_test, y_pred)\n",
        "print(\"Коэффициент детерминации R^2:\", r2)"
      ],
      "metadata": {
        "id": "EVu8wL6QA1Ci",
        "colab": {
          "base_uri": "https://localhost:8080/"
        },
        "outputId": "4d45e1cd-2d7b-4cc9-aa40-d0dee08a05c3"
      },
      "execution_count": null,
      "outputs": [
        {
          "output_type": "stream",
          "name": "stdout",
          "text": [
            "Коэффициент детерминации R^2: 0.8210806279599667\n"
          ]
        }
      ]
    },
    {
      "cell_type": "markdown",
      "source": [
        "Видно, что точность значительно не изменилась."
      ],
      "metadata": {
        "id": "BFPWkxOnieem"
      }
    },
    {
      "cell_type": "markdown",
      "source": [
        "## Модификация признаков"
      ],
      "metadata": {
        "id": "hJm3yq--BcT7"
      }
    },
    {
      "cell_type": "markdown",
      "source": [
        "Постройте графики зависимостей признаков от целевой переменной, например, при помощи <code>sns.pairplot()</code>."
      ],
      "metadata": {
        "id": "T11p0ltmEFwR"
      }
    },
    {
      "cell_type": "code",
      "source": [
        "# < ENTER YOUR CODE HERE >"
      ],
      "metadata": {
        "id": "0rifKCoWEQYj"
      },
      "execution_count": null,
      "outputs": []
    },
    {
      "cell_type": "markdown",
      "source": [
        "Видно, что масса, вообще говоря, нелинейно зависит от остальных параметров. Значит, чтобы линейная модель хорошо справлялась с предсказанием, признаки имеет смысл преобразовать так, чтобы зависимость стала более похожей на линейную. Но как придумать такую зависимость?"
      ],
      "metadata": {
        "id": "L-v73i1vhi_9"
      }
    },
    {
      "cell_type": "markdown",
      "source": [
        "Логично предположить, что масса рыбы должна каким-то гладким образом зависеть от остальных параметров, отвечающих так или иначе за размеры. Если впомнить, что масса — это произведение плотности на объем, то\n",
        "\n",
        "$$\n",
        "m = \\rho \\cdot V.\n",
        "$$\n",
        "\n",
        "Допустим, что средняя плотность у всех рыб одинаковая, и вспомним, что при гомотетии объем объекта зависит от линейных размеров как куб, тогда получим\n",
        "\n",
        "$$\n",
        "m\\sim V\\sim d^3\n",
        "$$\n",
        "\n",
        "Все признаки тренировочного и тестового наборов данных, отвечающие так или иначе за размеры (<code>Height, Width, Lengths</code>), возведите в третью степень, и проверьте, стала ли зависимость массы от этих признаков похожа на линейную."
      ],
      "metadata": {
        "id": "sSIndS-yCP6P"
      }
    },
    {
      "cell_type": "code",
      "source": [
        "# < ENTER YOUR CODE HERE >"
      ],
      "metadata": {
        "id": "DOK0OyLVEmrh"
      },
      "execution_count": null,
      "outputs": []
    },
    {
      "cell_type": "markdown",
      "source": [
        "Введите выборочное среднее колонки <code>Width</code> тренировочного набора данных после возведения в куб."
      ],
      "metadata": {
        "id": "Jm-1XAOpE_Dc"
      }
    },
    {
      "cell_type": "code",
      "source": [
        "# Возведение в куб выбранных столбцов\n",
        "wc = X_train['Width']**3\n",
        "hc = X_train['Height']**3\n",
        "lc = X_train['Lengths']**3\n",
        "\n",
        "# Вычисление среднего значения для Width_cubed\n",
        "mean_width_cubed = wc.mean()\n",
        "print(\"Среднее значение Width_cubed:\", mean_width_cubed)"
      ],
      "metadata": {
        "id": "5-2zYkgWGCFN",
        "colab": {
          "base_uri": "https://localhost:8080/"
        },
        "outputId": "a5888750-e9ba-4d30-da0a-393691061b5a"
      },
      "execution_count": null,
      "outputs": [
        {
          "output_type": "stream",
          "name": "stdout",
          "text": [
            "Среднее значение Width_cubed: 129.56198433393484\n"
          ]
        }
      ]
    },
    {
      "cell_type": "markdown",
      "source": [
        "Выберите изображения, соответствующие зависимости <code>Weight</code> от <code>Width</code> до преобразования и после."
      ],
      "metadata": {
        "id": "PCKM-CcQjfH5"
      }
    },
    {
      "cell_type": "markdown",
      "source": [
        "Обучите базовую модель линейной регресси на полученных тренировочных данных, снова выбросив категориальные признаки. Выполните предсказания для тестовых данных, оцените при помощи `r2_score()`."
      ],
      "metadata": {
        "id": "NZtrdFamiTl1"
      }
    },
    {
      "cell_type": "code",
      "source": [
        "# Возведение в куб выбранных столбцов для тренировочных и тестовых данных\n",
        "for col in ['Width', 'Height', 'Lengths']:\n",
        "    X_train[col] = X_train[col]**3\n",
        "    X_test[col] = X_test[col]**3\n",
        "\n",
        "model = LinearRegression()\n",
        "model.fit(X_train, y_train)\n",
        "\n",
        "y_pred = model.predict(X_test)\n",
        "r2 = r2_score(y_test, y_pred)\n",
        "print(\"Коэффициент детерминации R^2:\", r2)"
      ],
      "metadata": {
        "id": "ybKUGN-GGUoH",
        "colab": {
          "base_uri": "https://localhost:8080/"
        },
        "outputId": "dbf60eb2-6b3d-4419-e8a6-bc4ce4b916b0"
      },
      "execution_count": null,
      "outputs": [
        {
          "output_type": "stream",
          "name": "stdout",
          "text": [
            "Коэффициент детерминации R^2: 0.9706275133931405\n"
          ]
        }
      ]
    },
    {
      "cell_type": "markdown",
      "source": [
        "Обратите внимание на то, как такая нехитрая работа с признаками помогла разительно улучшить точность модели!"
      ],
      "metadata": {
        "id": "WReH7dKZirOt"
      }
    },
    {
      "cell_type": "markdown",
      "source": [
        "## Добавление категориальных признаков"
      ],
      "metadata": {
        "id": "MesFzgX1Sqgz"
      }
    },
    {
      "cell_type": "markdown",
      "source": [
        "Произведите <code>one-hot</code> кодировние категориального признака `Species`, например, с помощью <code>pd.get_dummies()</code>.\n",
        "\n",
        "Обучите модель линейной регресси на полученных тренировочных данных. Выполните предсказания для тестовых данных, оцените модель при помощи <code>r2_score()</code>.\n",
        "\n",
        "<b>Примечание</b>: Мы специально использовали стратифицированное разделение, чтобы все значения категориального признака <code>Species</code> присутствовали во всех наборах данных. Но такое возможно не всегда. Про то, как с этим бороться можно почитать, [например, здесь](https://predictivehacks.com/?all-tips=how-to-deal-with-get_dummies-in-train-and-test-dataset)."
      ],
      "metadata": {
        "id": "VThVRIkvSuV0"
      }
    },
    {
      "cell_type": "code",
      "source": [
        "df = pd.DataFrame(z)\n",
        "xt = pd.get_dummies(df)\n",
        "\n",
        "xt_train = xt.iloc[:len(X_train)]\n",
        "xt_test = xt.iloc[len(X_train):]\n",
        "\n",
        "X_train_new = pd.concat([X_train, xt_train], axis=1)\n",
        "X_test_new = pd.concat([X_test, xt_test], axis=1)\n",
        "\n",
        "print(X_train_new, X_test_new)\n",
        "\n",
        "#model = LinearRegression()\n",
        "#model.fit(X_train_new, y_train)\n",
        "\n",
        "#y_pred = model.predict(X_test_new)\n",
        "#r2 = r2_score(y_test, y_pred)\n",
        "#print(\"Коэффициент детерминации R^2:\", r2)"
      ],
      "metadata": {
        "id": "AcJDFGFLSpzT",
        "colab": {
          "base_uri": "https://localhost:8080/"
        },
        "outputId": "76275cf8-caa6-4d60-a23d-33edfe614431"
      },
      "execution_count": null,
      "outputs": [
        {
          "output_type": "stream",
          "name": "stdout",
          "text": [
            "          Height       Width    Lengths Species_Bream Species_Parkki  \\\n",
            "97    355.888340   59.593201  -0.169371           NaN            NaN   \n",
            "37   2002.281725  539.750799  14.957138         False          False   \n",
            "21   1613.964717  377.149516   6.679238         False          False   \n",
            "40   1107.368679   49.172711  -0.822021         False           True   \n",
            "116  1885.483738  277.805953   7.464917           NaN            NaN   \n",
            "..           ...         ...        ...           ...            ...   \n",
            "67           NaN         NaN        NaN         False          False   \n",
            "71           NaN         NaN        NaN         False          False   \n",
            "77           NaN         NaN        NaN         False          False   \n",
            "82           NaN         NaN        NaN         False          False   \n",
            "91           NaN         NaN        NaN         False          False   \n",
            "\n",
            "    Species_Perch Species_Pike Species_Roach Species_Smelt Species_Whitefish  \n",
            "97            NaN          NaN           NaN           NaN               NaN  \n",
            "37           True        False         False         False             False  \n",
            "21           True        False         False         False             False  \n",
            "40          False        False         False         False             False  \n",
            "116           NaN          NaN           NaN           NaN               NaN  \n",
            "..            ...          ...           ...           ...               ...  \n",
            "67           True        False         False         False             False  \n",
            "71           True        False         False         False             False  \n",
            "77           True        False         False         False             False  \n",
            "82          False         True         False         False             False  \n",
            "91           True        False         False         False             False  \n",
            "\n",
            "[113 rows x 10 columns]           Height       Width     Lengths Species_Bream Species_Parkki  \\\n",
            "71    247.082047   51.686703   -0.809590           NaN            NaN   \n",
            "106    14.348907    2.043548  -21.325718         False          False   \n",
            "23    330.699148   47.879600   -0.546202           NaN            NaN   \n",
            "91    142.432927   36.647301   -6.611249           NaN            NaN   \n",
            "104   185.954307   71.887512    0.906692         False          False   \n",
            "108  6812.536313  287.888218    3.393532          True          False   \n",
            "49    922.986233   31.467701   -1.718898           NaN            NaN   \n",
            "103   622.310904   35.754358   -2.406503         False           True   \n",
            "16      5.257132    1.149705  -33.110099           NaN            NaN   \n",
            "67    368.170147   81.464295   -0.017346           NaN            NaN   \n",
            "115   337.153536  117.361115   21.146269         False          False   \n",
            "27   1958.990236  407.940668   13.872279           NaN            NaN   \n",
            "112  1181.502082  258.061189    2.720785         False          False   \n",
            "0     195.566492   52.920218   -1.334347           NaN            NaN   \n",
            "47   2062.933417   88.448270    0.001935           NaN            NaN   \n",
            "41    576.553594  135.582858   -0.025177           NaN            NaN   \n",
            "82    884.736000  231.928234  150.898089           NaN            NaN   \n",
            "43    262.144000   54.872000   -1.041521           NaN            NaN   \n",
            "14    142.114065   47.674198   -1.053676           NaN            NaN   \n",
            "77   1271.998933  245.855562    2.715820           NaN            NaN   \n",
            "50   3679.367008  173.741112    0.315928           NaN            NaN   \n",
            "56   4091.086766  154.888760    1.071701           NaN            NaN   \n",
            "31   1626.877698  284.059829    2.312842           NaN            NaN   \n",
            "61   2901.445231  132.978996    0.132604           NaN            NaN   \n",
            "95           NaN         NaN         NaN         False           True   \n",
            "96           NaN         NaN         NaN          True          False   \n",
            "97           NaN         NaN         NaN         False          False   \n",
            "98           NaN         NaN         NaN         False          False   \n",
            "99           NaN         NaN         NaN         False          False   \n",
            "100          NaN         NaN         NaN         False          False   \n",
            "101          NaN         NaN         NaN         False          False   \n",
            "102          NaN         NaN         NaN         False          False   \n",
            "105          NaN         NaN         NaN         False          False   \n",
            "107          NaN         NaN         NaN         False          False   \n",
            "109          NaN         NaN         NaN         False          False   \n",
            "110          NaN         NaN         NaN         False          False   \n",
            "111          NaN         NaN         NaN         False          False   \n",
            "113          NaN         NaN         NaN         False          False   \n",
            "114          NaN         NaN         NaN         False           True   \n",
            "116          NaN         NaN         NaN         False          False   \n",
            "117          NaN         NaN         NaN         False          False   \n",
            "118          NaN         NaN         NaN         False          False   \n",
            "\n",
            "    Species_Perch Species_Pike Species_Roach Species_Smelt Species_Whitefish  \n",
            "71            NaN          NaN           NaN           NaN               NaN  \n",
            "106         False        False         False          True             False  \n",
            "23            NaN          NaN           NaN           NaN               NaN  \n",
            "91            NaN          NaN           NaN           NaN               NaN  \n",
            "104         False         True         False         False             False  \n",
            "108         False        False         False         False             False  \n",
            "49            NaN          NaN           NaN           NaN               NaN  \n",
            "103         False        False         False         False             False  \n",
            "16            NaN          NaN           NaN           NaN               NaN  \n",
            "67            NaN          NaN           NaN           NaN               NaN  \n",
            "115         False         True         False         False             False  \n",
            "27            NaN          NaN           NaN           NaN               NaN  \n",
            "112          True        False         False         False             False  \n",
            "0             NaN          NaN           NaN           NaN               NaN  \n",
            "47            NaN          NaN           NaN           NaN               NaN  \n",
            "41            NaN          NaN           NaN           NaN               NaN  \n",
            "82            NaN          NaN           NaN           NaN               NaN  \n",
            "43            NaN          NaN           NaN           NaN               NaN  \n",
            "14            NaN          NaN           NaN           NaN               NaN  \n",
            "77            NaN          NaN           NaN           NaN               NaN  \n",
            "50            NaN          NaN           NaN           NaN               NaN  \n",
            "56            NaN          NaN           NaN           NaN               NaN  \n",
            "31            NaN          NaN           NaN           NaN               NaN  \n",
            "61            NaN          NaN           NaN           NaN               NaN  \n",
            "95          False        False         False         False             False  \n",
            "96          False        False         False         False             False  \n",
            "97          False        False          True         False             False  \n",
            "98          False        False          True         False             False  \n",
            "99          False         True         False         False             False  \n",
            "100         False        False          True         False             False  \n",
            "101          True        False         False         False             False  \n",
            "102         False        False         False          True             False  \n",
            "105          True        False         False         False             False  \n",
            "107         False        False         False         False              True  \n",
            "109          True        False         False         False             False  \n",
            "110          True        False         False         False             False  \n",
            "111          True        False         False         False             False  \n",
            "113          True        False         False         False             False  \n",
            "114         False        False         False         False             False  \n",
            "116         False        False         False         False              True  \n",
            "117          True        False         False         False             False  \n",
            "118          True        False         False         False             False  \n"
          ]
        }
      ]
    },
    {
      "cell_type": "markdown",
      "source": [
        "И снова точность возрасла."
      ],
      "metadata": {
        "id": "bBDsQEGvjMV2"
      }
    },
    {
      "cell_type": "markdown",
      "source": [
        "Как можно увидеть, после `one-hot` кодирования признаки стали коррелированы. От этого можно избавиться, например, при помощи параметра `drop_first=True`. Заново обучите модель после исправления этого недочета. Выполните предсказания для тестовых данных, оцените модель при помощи <code>r2_score()</code>."
      ],
      "metadata": {
        "id": "vciWw1gajo5H"
      }
    },
    {
      "cell_type": "code",
      "source": [
        "# < ENTER YOUR CODE HERE >"
      ],
      "metadata": {
        "id": "zV6u-Ha1kH3p"
      },
      "execution_count": null,
      "outputs": []
    },
    {
      "cell_type": "markdown",
      "source": [
        "На таком сравнительно небольшом наборе данных, впрочем, разницы мы не видим."
      ],
      "metadata": {
        "id": "ABS2Tw6tkSW5"
      }
    }
  ]
}