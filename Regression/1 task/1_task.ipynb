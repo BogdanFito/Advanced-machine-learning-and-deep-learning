{
  "nbformat": 4,
  "nbformat_minor": 0,
  "metadata": {
    "colab": {
      "provenance": []
    },
    "kernelspec": {
      "name": "python3",
      "display_name": "Python 3"
    },
    "language_info": {
      "name": "python"
    }
  },
  "cells": [
    {
      "cell_type": "markdown",
      "source": [
        "X среднее и Y среднее"
      ],
      "metadata": {
        "id": "2mzCGnzeeNDg"
      }
    },
    {
      "cell_type": "code",
      "source": [
        "X = [9,4,17,2,14,10,13,1,11,3]\n",
        "Y = [15,9,41,1,32,22,30,4,31,8]\n",
        "Xm = sum(X)/len(X)\n",
        "Ym = sum(Y)/len(Y)\n",
        "print(Xm, Ym)"
      ],
      "metadata": {
        "colab": {
          "base_uri": "https://localhost:8080/"
        },
        "id": "NjE5-QevXhZ_",
        "outputId": "50eb5008-ba24-4332-f80c-890e9d4fc58a"
      },
      "execution_count": 1,
      "outputs": [
        {
          "output_type": "stream",
          "name": "stdout",
          "text": [
            "8.4 19.3\n"
          ]
        }
      ]
    },
    {
      "cell_type": "markdown",
      "source": [
        "Q1, Q0"
      ],
      "metadata": {
        "id": "ZaJtA-EueULw"
      }
    },
    {
      "cell_type": "code",
      "source": [
        "def Q1(X,Y,Xm,Ym):\n",
        "  sum = sum2 = 0\n",
        "  for i in range(len(X)):\n",
        "    sum += (X[i]-Xm)*(Y[i]-Ym)\n",
        "    sum2 += (X[i]-Xm)*(X[i]-Xm)\n",
        "  return sum/sum2\n",
        "\n",
        "def Q0(Xm,Ym,Q1):\n",
        "  return Ym - Q1*Xm\n",
        "\n",
        "q1 = Q1(X,Y,Xm,Ym)\n",
        "q0 = Q0(Xm,Ym,q1)\n",
        "\n",
        "print(q1,q0)"
      ],
      "metadata": {
        "colab": {
          "base_uri": "https://localhost:8080/"
        },
        "id": "19BVrXDAZEwg",
        "outputId": "5f7db76f-f9ca-4b63-a412-87ead3100fbd"
      },
      "execution_count": 4,
      "outputs": [
        {
          "output_type": "stream",
          "name": "stdout",
          "text": [
            "2.4101283880171183 -0.9450784593437938\n"
          ]
        }
      ]
    },
    {
      "cell_type": "markdown",
      "source": [
        "R2 статистика"
      ],
      "metadata": {
        "id": "lMsA2PvzeYWA"
      }
    },
    {
      "cell_type": "code",
      "source": [
        "def test(q1,q0,x):\n",
        "  return q0 + q1*x\n",
        "\n",
        "def r2(Y,q1,q0,X,Ym):\n",
        "  ssr = sst = 0\n",
        "  for i in range(len(X)):\n",
        "    ssr += (Y[i] - test(q1,q0,X[i]))*(Y[i] - test(q1,q0,X[i]))\n",
        "    sst += (Y[i] - Ym)*(Y[i] - Ym)\n",
        "  return 1 - ssr/sst\n",
        "print(r2(Y,q1,q0,X,Ym))\n"
      ],
      "metadata": {
        "colab": {
          "base_uri": "https://localhost:8080/"
        },
        "id": "wHs8r_zicI9A",
        "outputId": "db50b149-9018-440e-84b5-49890a63a715"
      },
      "execution_count": 5,
      "outputs": [
        {
          "output_type": "stream",
          "name": "stdout",
          "text": [
            "0.9513257196553756\n"
          ]
        }
      ]
    }
  ]
}