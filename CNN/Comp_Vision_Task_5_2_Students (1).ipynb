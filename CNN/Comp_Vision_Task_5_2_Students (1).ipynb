{
  "nbformat": 4,
  "nbformat_minor": 0,
  "metadata": {
    "colab": {
      "provenance": []
    },
    "kernelspec": {
      "name": "python3",
      "display_name": "Python 3"
    },
    "language_info": {
      "name": "python"
    }
  },
  "cells": [
    {
      "cell_type": "markdown",
      "source": [
        "Рассмотрим сегментирование изображений с помощью глубоких нейросетевых архитектур на примере [Mask R-CNN](https://arxiv.org/abs/1703.06870) с использованием [torchvision](https://pytorch.org/vision/stable/index.html)."
      ],
      "metadata": {
        "id": "YgAdQNbN-MvE"
      }
    },
    {
      "cell_type": "markdown",
      "source": [
        "Импортируем требуемые библиотеки и загрузим предобученную модель."
      ],
      "metadata": {
        "id": "HxZudBb7_vgI"
      }
    },
    {
      "cell_type": "code",
      "execution_count": 1,
      "metadata": {
        "colab": {
          "base_uri": "https://localhost:8080/"
        },
        "id": "OmNlPAbl-Iam",
        "outputId": "cc6e23ac-ce73-4406-f157-ef5029563fe2"
      },
      "outputs": [
        {
          "output_type": "stream",
          "name": "stderr",
          "text": [
            "/usr/local/lib/python3.10/dist-packages/torchvision/models/_utils.py:208: UserWarning: The parameter 'pretrained' is deprecated since 0.13 and may be removed in the future, please use 'weights' instead.\n",
            "  warnings.warn(\n",
            "/usr/local/lib/python3.10/dist-packages/torchvision/models/_utils.py:223: UserWarning: Arguments other than a weight enum or `None` for 'weights' are deprecated since 0.13 and may be removed in the future. The current behavior is equivalent to passing `weights=MaskRCNN_ResNet50_FPN_Weights.COCO_V1`. You can also use `weights=MaskRCNN_ResNet50_FPN_Weights.DEFAULT` to get the most up-to-date weights.\n",
            "  warnings.warn(msg)\n",
            "Downloading: \"https://download.pytorch.org/models/maskrcnn_resnet50_fpn_coco-bf2d0c1e.pth\" to /root/.cache/torch/hub/checkpoints/maskrcnn_resnet50_fpn_coco-bf2d0c1e.pth\n",
            "100%|██████████| 170M/170M [00:04<00:00, 36.3MB/s]\n"
          ]
        }
      ],
      "source": [
        "import os\n",
        "from os.path import exists, join, basename, splitext\n",
        "\n",
        "import random\n",
        "import PIL\n",
        "import torchvision\n",
        "import cv2\n",
        "import numpy as np\n",
        "import torch\n",
        "torch.set_grad_enabled(False)\n",
        "\n",
        "import time\n",
        "import matplotlib\n",
        "import matplotlib.pylab as plt\n",
        "plt.rcParams[\"axes.grid\"] = False\n",
        "\n",
        "model = torchvision.models.detection.maskrcnn_resnet50_fpn(pretrained=True)\n",
        "model = model.eval().cpu()"
      ]
    },
    {
      "cell_type": "markdown",
      "source": [
        "Загрузим и считаем изображение"
      ],
      "metadata": {
        "id": "evwPKn2mCh8I"
      }
    },
    {
      "cell_type": "code",
      "source": [
        "\n",
        "image_file = '/content/Comp_Vision_Task_5_File_2.jpg'"
      ],
      "metadata": {
        "id": "bTO0sNq2Cxpw"
      },
      "execution_count": 2,
      "outputs": []
    },
    {
      "cell_type": "markdown",
      "source": [
        "Произведем сегментацию изображения при помощи модели"
      ],
      "metadata": {
        "id": "RejIaCHaDEkM"
      }
    },
    {
      "cell_type": "code",
      "source": [
        "t = time.time()\n",
        "image = PIL.Image.open(image_file)\n",
        "image_tensor = torchvision.transforms.functional.to_tensor(image).cpu()\n",
        "output = model([image_tensor])[0]\n",
        "print('Время распознавания: %.3fs' % (time.time() - t))"
      ],
      "metadata": {
        "colab": {
          "base_uri": "https://localhost:8080/"
        },
        "id": "Hh5qKRYPDI_J",
        "outputId": "73b1fbb6-bca1-45c0-8aaf-4e34ea8eb940"
      },
      "execution_count": 3,
      "outputs": [
        {
          "output_type": "stream",
          "name": "stdout",
          "text": [
            "Время распознавания: 10.753s\n"
          ]
        }
      ]
    },
    {
      "cell_type": "markdown",
      "source": [
        "В качестве результата возвращается словарь со следующими ключами:\n",
        "\n",
        "Результаты работы модели находятся в словаре:\n",
        "\n",
        "*   boxes -- bounding boxes обнаруженных объектов (в виде <code>x1, y1, x2, y2</code> — отсчет начинается от левого верхнего края изображения)\n",
        "*   labels -- метки назначенных классов\n",
        "*   scores -- вероятности отнесения к назначенным классам\n",
        "*   masks -- маски -- результат сегментации\n",
        "\n",
        "Обратим внимание на то, что значения интенсивностей пикселей масок и координаты коробок (bounding boxes) не являются целыми числами. В дальнейшем, исправим это.\n",
        "\n",
        "\n",
        "\n",
        "\n"
      ],
      "metadata": {
        "id": "cjWhvK9nEcTe"
      }
    },
    {
      "cell_type": "code",
      "source": [
        "output.keys()"
      ],
      "metadata": {
        "colab": {
          "base_uri": "https://localhost:8080/"
        },
        "id": "L49ZJKNfEj3M",
        "outputId": "45d79f44-89b1-493f-ccff-d1c24b2c7d10"
      },
      "execution_count": 4,
      "outputs": [
        {
          "output_type": "execute_result",
          "data": {
            "text/plain": [
              "dict_keys(['boxes', 'labels', 'scores', 'masks'])"
            ]
          },
          "metadata": {},
          "execution_count": 4
        }
      ]
    },
    {
      "cell_type": "markdown",
      "source": [
        "Данная модель способна определить более 90 различных объектов. Соответствующий файл скачивается в формате .json, который нетрудно распарсить средствами питона. Но для данной темы достаточно определить эти типы объектов явным образом."
      ],
      "metadata": {
        "id": "dDvcUDh6FOf3"
      }
    },
    {
      "cell_type": "code",
      "source": [
        "coco_names = ['unlabeled', 'person', 'bicycle', 'car', 'motorcycle', 'airplane', 'bus', 'train', 'truck', 'boat', 'traffic light', 'fire hydrant', 'street sign', 'stop sign', 'parking meter', 'bench', 'bird', 'cat', 'dog', 'horse', 'sheep', 'cow', 'elephant', 'bear', 'zebra', 'giraffe', 'hat', 'backpack', 'umbrella', 'shoe', 'eye glasses', 'handbag', 'tie', 'suitcase', 'frisbee', 'skis', 'snowboard', 'sports ball', 'kite', 'baseball bat', 'baseball glove', 'skateboard', 'surfboard', 'tennis racket', 'bottle', 'plate', 'wine glass', 'cup', 'fork', 'knife', 'spoon', 'bowl', 'banana', 'apple', 'sandwich', 'orange', 'broccoli', 'carrot', 'hot dog', 'pizza', 'donut', 'cake', 'chair', 'couch', 'potted plant', 'bed', 'mirror', 'dining table', 'window', 'desk', 'toilet', 'door', 'tv', 'laptop', 'mouse', 'remote', 'keyboard', 'cell phone', 'microwave', 'oven', 'toaster', 'sink', 'refrigerator', 'blender', 'book', 'clock', 'vase', 'scissors', 'teddy bear', 'hair drier', 'toothbrush']"
      ],
      "metadata": {
        "id": "cMzVlna9E9NL"
      },
      "execution_count": 5,
      "outputs": []
    },
    {
      "cell_type": "markdown",
      "source": [
        "Произведем небольшое преобразование, а именно -- отберем только те обнаруженные объекты, в которых модель относительно уверена (значение score больше 0.5), произведем бинаризацию значений масок и актуализируем значения bounding boxes."
      ],
      "metadata": {
        "id": "LtVrEfzbFmae"
      }
    },
    {
      "cell_type": "code",
      "source": [
        "result = {}\n",
        "result['masks'] = []\n",
        "result['labels'] = []\n",
        "result['scores'] = []\n",
        "result['boxes'] = []\n",
        "\n",
        "for i in range(len(output['scores'])):\n",
        "  if output['scores'][i] <= 0.5:\n",
        "    continue\n",
        "  # Исправляем маски\n",
        "  one_mask = output['masks'][i][0].cpu().numpy()\n",
        "  one_mask[one_mask >= np.max(one_mask) * 0.5] = 1\n",
        "  one_mask[one_mask < np.max(one_mask) * 0.5] = 0\n",
        "  result['masks'].append(one_mask)\n",
        "  # Исправляем коробки\n",
        "  result['boxes'].append(output['boxes'][i].int().cpu().numpy())\n",
        "  # Добавляем остальное\n",
        "  result['scores'].append(output['scores'][i].cpu().numpy())\n",
        "  result['labels'].append(output['labels'][i].cpu().numpy())"
      ],
      "metadata": {
        "id": "RqxrXU6yFusR"
      },
      "execution_count": 6,
      "outputs": []
    },
    {
      "cell_type": "markdown",
      "source": [
        "Проиллюстрируем результат"
      ],
      "metadata": {
        "id": "2twwq4VjH4y4"
      }
    },
    {
      "cell_type": "code",
      "source": [
        "def calculate_object_area(mask):\n",
        "    \"\"\"Calculates the area of the object in the mask image.\n",
        "\n",
        "    Args:\n",
        "        mask: A binary mask image where the object is represented by non-zero pixels.\n",
        "\n",
        "    Returns:\n",
        "        The area of the object in the mask image.\n",
        "    \"\"\"\n",
        "\n",
        "    return np.count_nonzero(mask)\n",
        "\n",
        "def calculate_image_area(image):\n",
        "    \"\"\"Calculates the total area of the image.\n",
        "\n",
        "    Args:\n",
        "        image: The original image.\n",
        "\n",
        "    Returns:\n",
        "        The total area of the image.\n",
        "    \"\"\"\n",
        "\n",
        "    image_array = np.array(image)\n",
        "    return image_array.shape[0] * image_array.shape[1]\n",
        "\n",
        "colors = [[random.randint(0, 255) for _ in range(3)] for _ in coco_names]\n",
        "b = [0,0,0,0]\n",
        "l = ''\n",
        "s = 0.0\n",
        "result_image = np.array(image.copy())\n",
        "for box, label, score, mask in zip(result['boxes'], result['labels'], result['scores'], result['masks']):\n",
        "  color = random.choice(colors)\n",
        "  if sum(box)>sum(b):\n",
        "    b = box\n",
        "    l = label\n",
        "    s = score\n",
        "    # Calculate the area of the object and the image\n",
        "    object_area = calculate_object_area(mask)\n",
        "    image_area = calculate_image_area(image)\n",
        "\n",
        "    # Calculate the relative area of the object\n",
        "    relative_area = object_area / image_area\n",
        "\n",
        "box = b\n",
        "label = l\n",
        "score = s\n",
        "# draw box\n",
        "tl = round(0.002 * max(result_image.shape[0:2])) + 1  # line thickness\n",
        "c1, c2 = (box[0], box[1]), (box[2], box[3])\n",
        "cv2.rectangle(result_image, c1, c2, color, thickness=tl)\n",
        "# draw text\n",
        "display_txt = \"%s: %.1f%%\" % (coco_names[label], 100*score)\n",
        "tf = max(tl - 1, 1)  # font thickness\n",
        "t_size = cv2.getTextSize(display_txt, 0, fontScale=tl / 3, thickness=tf)[0]\n",
        "c2 = c1[0] + t_size[0], c1[1] - t_size[1] - 3\n",
        "cv2.rectangle(result_image, c1, c2, color, -1)  # filled\n",
        "cv2.putText(result_image, display_txt, (c1[0], c1[1] - 2), 0, tl / 3, [225, 255, 255], thickness=tf, lineType=cv2.LINE_AA)\n",
        "\n",
        "#plt.figure(figsize=(15, 10))\n",
        "#plt.imshow(result_image)\n",
        "print(box)\n",
        "w = box[2]-box[0]\n",
        "h = box[3]-box[1]\n",
        "print(w,h)"
      ],
      "metadata": {
        "colab": {
          "base_uri": "https://localhost:8080/"
        },
        "id": "zDd7wfzzH4KI",
        "outputId": "aa1838f5-7189-4358-f112-c4a8f258a6ec"
      },
      "execution_count": 19,
      "outputs": [
        {
          "output_type": "stream",
          "name": "stdout",
          "text": [
            "[580 237 625 299]\n",
            "45 62\n"
          ]
        }
      ]
    },
    {
      "cell_type": "markdown",
      "source": [
        "Посмотрим на полученные маски"
      ],
      "metadata": {
        "id": "t-uTQCfcI0ye"
      }
    },
    {
      "cell_type": "code",
      "source": [
        "all_masks = np.sum(result['masks'],axis=0)\n",
        "all_masks[all_masks > 1] = 1\n",
        "plt.figure(figsize=(15, 10))\n",
        "plt.imshow(all_masks)"
      ],
      "metadata": {
        "colab": {
          "base_uri": "https://localhost:8080/",
          "height": 852
        },
        "id": "_Ritf7AALf6R",
        "outputId": "1642f0b5-fb59-42ee-95b8-ba5f3e7d052a"
      },
      "execution_count": null,
      "outputs": [
        {
          "output_type": "execute_result",
          "data": {
            "text/plain": [
              "<matplotlib.image.AxesImage at 0x7f1e549c5630>"
            ]
          },
          "metadata": {},
          "execution_count": 50
        },
        {
          "output_type": "display_data",
          "data": {
            "text/plain": [
              "<Figure size 1500x1000 with 1 Axes>"
            ],
            "image/png": "[encoded data removed]"
          },
          "metadata": {}
        }
      ]
    }
  ]
}