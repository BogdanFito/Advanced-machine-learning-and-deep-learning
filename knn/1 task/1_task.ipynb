{
  "nbformat": 4,
  "nbformat_minor": 0,
  "metadata": {
    "colab": {
      "provenance": []
    },
    "kernelspec": {
      "name": "python3",
      "display_name": "Python 3"
    },
    "language_info": {
      "name": "python"
    }
  },
  "cells": [
    {
      "cell_type": "markdown",
      "source": [
        "Считываем данные"
      ],
      "metadata": {
        "id": "2mzCGnzeeNDg"
      }
    },
    {
      "cell_type": "code",
      "source": [
        "import pandas as pd\n",
        "\n",
        "train_data = pd.read_csv('/content/sample_data/data.csv')"
      ],
      "metadata": {
        "id": "NjE5-QevXhZ_"
      },
      "execution_count": null,
      "outputs": []
    },
    {
      "cell_type": "markdown",
      "source": [
        "расстояние от нового объекта с координатами 30,30  до ближайшего соседа используя евклидову метрику.\n",
        "идентификатры трех ближайших точек к 30,30 для евклидовой метрики."
      ],
      "metadata": {
        "id": "ZaJtA-EueULw"
      }
    },
    {
      "cell_type": "code",
      "source": [
        "import math\n",
        "\n",
        "df = pd.DataFrame(train_data)\n",
        "\n",
        "# Новая точка\n",
        "new_point = (30, 30)\n",
        "\n",
        "# Функция для расчета евклидова расстояния\n",
        "def euclidean_distance(point1, point2):\n",
        "    return math.sqrt((point1[0] - point2[0])**2 + (point1[1] - point2[1])**2)\n",
        "\n",
        "# Расчет расстояний и добавление их в DataFrame\n",
        "df['distance'] = df.apply(lambda row: euclidean_distance((row['X'], row['Y']), new_point), axis=1)\n",
        "\n",
        "# Находим точку с минимальным расстоянием\n",
        "nearest_neighbor = df.loc[df['distance'].idxmin()]\n",
        "\n",
        "print(\"Ближайший сосед:\")\n",
        "print(nearest_neighbor)\n",
        "\n",
        "# Сортировка по возрастанию расстояния\n",
        "df = df.sort_values(by='distance')\n",
        "\n",
        "# Вывод идентификаторов трех ближайших соседей\n",
        "print(\"Идентификаторы трех ближайших соседей:\")\n",
        "print(df['id'].head(3))"
      ],
      "metadata": {
        "colab": {
          "base_uri": "https://localhost:8080/"
        },
        "id": "19BVrXDAZEwg",
        "outputId": "f2560d8d-2f02-4ceb-cae3-5a83b0b80c5d"
      },
      "execution_count": null,
      "outputs": [
        {
          "output_type": "stream",
          "name": "stdout",
          "text": [
            "Ближайший сосед:\n",
            "id           5.000000\n",
            "X           18.000000\n",
            "Y           12.000000\n",
            "Class        0.000000\n",
            "distance    21.633308\n",
            "Name: 4, dtype: float64\n",
            "Идентификаторы трех ближайших соседей:\n",
            "4    5\n",
            "2    3\n",
            "1    2\n",
            "Name: id, dtype: int64\n"
          ]
        }
      ]
    },
    {
      "cell_type": "markdown",
      "source": [
        "класс нового объекта"
      ],
      "metadata": {
        "id": "lMsA2PvzeYWA"
      }
    },
    {
      "cell_type": "code",
      "source": [
        "k = 3\n",
        "\n",
        "# Выбираем k ближайших соседей\n",
        "nearest_neighbors = df.head(k)\n",
        "\n",
        "# Подсчет классов среди ближайших соседей\n",
        "class_counts = nearest_neighbors['Class'].value_counts()\n",
        "\n",
        "# Определение класса для новой точки\n",
        "predicted_class = class_counts.idxmax()\n",
        "\n",
        "print(\"Предсказанный класс для новой точки:\", predicted_class)"
      ],
      "metadata": {
        "colab": {
          "base_uri": "https://localhost:8080/"
        },
        "id": "wHs8r_zicI9A",
        "outputId": "a39ba195-d238-42e3-db29-16c6c403a91a"
      },
      "execution_count": null,
      "outputs": [
        {
          "output_type": "stream",
          "name": "stdout",
          "text": [
            "Предсказанный класс для новой точки: 1\n"
          ]
        }
      ]
    },
    {
      "cell_type": "code",
      "source": [
        "df = pd.DataFrame(train_data)\n",
        "\n",
        "# Функция для расчета Манхэттенского расстояния\n",
        "def manhattan_distance(point1, point2):\n",
        "    return abs(point1[0] - point2[0]) + abs(point1[1] - point2[1])\n",
        "\n",
        "# Расчет расстояний и добавление их в DataFrame\n",
        "df['distance'] = df.apply(lambda row: manhattan_distance((row['X'], row['Y']), new_point), axis=1)\n",
        "\n",
        "# Находим точку с минимальным расстоянием\n",
        "nearest_neighbor = df.loc[df['distance'].idxmin()]\n",
        "\n",
        "print(\"Ближайший сосед:\")\n",
        "print(nearest_neighbor)\n",
        "print(\"Расстояние до ближайшего соседа:\", nearest_neighbor['distance'])\n",
        "\n",
        "# Сортировка по возрастанию расстояния\n",
        "df = df.sort_values(by='distance')\n",
        "\n",
        "# Вывод идентификаторов трех ближайших соседей\n",
        "print(\"Идентификаторы трех ближайших соседей:\")\n",
        "print(df['id'].head(3))\n",
        "\n",
        "# Выбираем k ближайших соседей\n",
        "nearest_neighbors = df.head(k)\n",
        "\n",
        "# Подсчет классов среди ближайших соседей\n",
        "class_counts = nearest_neighbors['Class'].value_counts()\n",
        "\n",
        "# Определение класса для новой точки\n",
        "predicted_class = class_counts.idxmax()\n",
        "\n",
        "print(\"Предсказанный класс для новой точки:\", predicted_class)"
      ],
      "metadata": {
        "colab": {
          "base_uri": "https://localhost:8080/"
        },
        "id": "ECtcAn49VUJW",
        "outputId": "2db2d777-2764-41b9-b1b6-c4ff10c50aee"
      },
      "execution_count": null,
      "outputs": [
        {
          "output_type": "stream",
          "name": "stdout",
          "text": [
            "Ближайший сосед:\n",
            "id           5\n",
            "X           18\n",
            "Y           12\n",
            "Class        0\n",
            "distance    30\n",
            "Name: 4, dtype: int64\n",
            "Расстояние до ближайшего соседа: 30\n",
            "Идентификаторы трех ближайших соседей:\n",
            "4    5\n",
            "2    3\n",
            "1    2\n",
            "Name: id, dtype: int64\n",
            "Предсказанный класс для новой точки: 1\n"
          ]
        }
      ]
    }
  ]
}