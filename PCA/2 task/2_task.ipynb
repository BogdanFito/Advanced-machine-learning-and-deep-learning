{
  "nbformat": 4,
  "nbformat_minor": 0,
  "metadata": {
    "colab": {
      "provenance": []
    },
    "kernelspec": {
      "name": "python3",
      "display_name": "Python 3"
    },
    "language_info": {
      "name": "python"
    }
  },
  "cells": [
    {
      "cell_type": "markdown",
      "source": [
        "Функция восстановления исходного изображения"
      ],
      "metadata": {
        "id": "D33qEAgXEKnr"
      }
    },
    {
      "cell_type": "code",
      "execution_count": 20,
      "metadata": {
        "id": "4DMERp_DD5GE"
      },
      "outputs": [],
      "source": [
        "import numpy as np\n",
        "import pandas as pd\n",
        "import matplotlib.pyplot as plt"
      ]
    },
    {
      "cell_type": "code",
      "source": [
        "# Загрузка матрицы счетов (примем, что она находится в файле scores.csv)\n",
        "scores_df = pd.read_csv('/content/sample_data/X_reduced_792.csv', header=None)\n",
        "scores = scores_df.values\n",
        "\n",
        "# Загрузка матрицы весов (примем, что она находится в файле eigenvectors.csv)\n",
        "eigenvectors_df = pd.read_csv('/content/sample_data/X_loadings_792.csv', header=None)\n",
        "eigenvectors = eigenvectors_df.values"
      ],
      "metadata": {
        "id": "Jzjf1EkqEh7c"
      },
      "execution_count": 21,
      "outputs": []
    },
    {
      "cell_type": "code",
      "source": [
        "def reconstruct_image(scores, eigenvectors, X_mean, num_components=10):\n",
        "  \"\"\"\n",
        "  Восстанавливает исходное изображение по первым num_components главным компонентам.\n",
        "\n",
        "  Args:\n",
        "    scores: Матрица счетов.\n",
        "    eigenvectors: Матрица весов.\n",
        "    X_mean: Среднее значение исходных данных.\n",
        "    num_components: Количество используемых главных компонент.\n",
        "\n",
        "  Returns:\n",
        "    Восстановленное изображение.\n",
        "  \"\"\"\n",
        "\n",
        "  # Выбираем первые num_components главных компонент\n",
        "  reduced_scores = scores[:, :num_components]\n",
        "  reduced_eigenvectors = eigenvectors[:, :num_components]\n",
        "\n",
        "  # Восстановление изображения\n",
        "  X_reconstructed = np.dot(reduced_scores, reduced_eigenvectors.T)\n",
        "\n",
        "  return X_reconstructed\n",
        "\n",
        "# Предположим, что у вас есть среднее значение исходных данных X_mean\n",
        "# Восстановление изображения\n",
        "X_mean = eigenvectors - np.mean(eigenvectors, axis=0)\n",
        "reconstructed_image = reconstruct_image(scores, eigenvectors, X_mean, num_components=10)"
      ],
      "metadata": {
        "id": "ZU3qtxv2EpFr"
      },
      "execution_count": 22,
      "outputs": []
    },
    {
      "cell_type": "code",
      "source": [
        "# Предполагаем, что reconstructed_image имеет размерность (height, width)\n",
        "plt.imshow(reconstructed_image.reshape(100, 100), cmap='gray')\n",
        "plt.show()"
      ],
      "metadata": {
        "colab": {
          "base_uri": "https://localhost:8080/",
          "height": 433
        },
        "id": "-mhc1fIJRZF6",
        "outputId": "5e4409fa-116f-4bf0-808b-bde4f45d9c58"
      },
      "execution_count": 24,
      "outputs": [
        {
          "output_type": "display_data",
          "data": {
            "text/plain": [
              "<Figure size 640x480 with 1 Axes>"
            ],
            "image/png": "[encoded data removed]"
          },
          "metadata": {}
        }
      ]
    }
  ]
}